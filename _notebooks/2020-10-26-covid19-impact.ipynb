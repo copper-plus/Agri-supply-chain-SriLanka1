{
 "cells": [
  {
   "cell_type": "markdown",
   "metadata": {},
   "source": [
    "# \"COVID19 on Agri supply chains in Sri Lanka\"\n",
    "> \"Covid19 and Agri supply chain analysis\"\n",
    "\n",
    "- toc: false\n",
    "- comments: false\n",
    "- author: Tharindu Peiris"
   ]
  },
  {
   "cell_type": "markdown",
   "metadata": {},
   "source": [
    "Sri Lanka’s agriculture sector has so far been relatively little affected by the COVID19 outbreak, as the sector is only loosely integrated with global supply chains. From the outset of COVID19 pandemic, the government adopted timely measures to minimize the impact on agriculture. However, many farmers still suffered severe losses due to control measures, and temporary import restrictions hamper trade. Dairy farmers are among the least affected. In preparation for future potential food shocks, field level warehousing and cold storage facilities could be established. Other than COVID19, the sector may also be affected by the changing climate and the economic crisis.  Yet, the sector is predicted to achieve a positive growth of 1% in year 2020 and could still be an interesting market for input providers [1]."
   ]
  },
  {
   "cell_type": "markdown",
   "metadata": {},
   "source": [
    "## On and Before Economy \n",
    "\n",
    "Sri Lanka’s economy was already facing a tough time when it was hit by the COVID19 outbreak in March 2020.  A constitutional crisis in 2018 and Easter Sunday attacks in 2019 significantly affected the economy, leading to a historically low growth rate in 2019. Given the current circumstances, IMF has predicted a negative growth of 0.5% for Sri Lanka in 2020. The government now faces the challenges of reducing the fiscal deficit while domestic and foreign debt payments are also due. Enhancing exports and foreign investment to ease the pressure on depreciating currency and increasing the government’s revenue to meet the ever rising public expenses are also top priorities.\n"
   ]
  },
  {
   "cell_type": "markdown",
   "metadata": {},
   "source": [
    "## Agricultural sector \n",
    "\n",
    "Around 30% of the population in Sri Lanka engage in agriculture, though the sector’s contribution to GDP is as low as 10% (2015 data). Rice is the main food crop (40%) grown in Sri Lanka followed by the plantation crop sector (38%), comprised mainly of tea, rubber and coconut. The sector has been affected by low productivity, water and land use inefficiency and high post-harvest losses for a long time. Being the 2nd in the Global Climate Risk Index, the Sri Lankan agricultural sector has also been experiencing the effects of changing climate and natural disasters. This has, however, given an incentive for the farmers to shift towards climate smart agriculture. In line with this emerging trend, government adopted many measures to modernize the agricultural sector with support from the World Bank and other donor agencies. "
   ]
  },
  {
   "cell_type": "markdown",
   "metadata": {},
   "source": [
    "## Food security \n",
    "\n",
    "Despite the lockdown, food supply was adequate in the local market throughout the pandemic. However, logistical movement of food became a challenge causing disruptions in the food supply chains. Less production of high value commodities is likely, however not yet noticeable because of the lockdowns and disruption in the value chains. Amid rising food security concerns, the government started a campaign to motivate people to start their own home garden. As a part of the campaign, packets of seeds were distributed free of charge in some areas."
   ]
  },
  {
   "cell_type": "markdown",
   "metadata": {},
   "source": [
    "## Impact on livestock\n",
    "\n",
    "The impact of the outbreak on the livestock sector is huge. Reduced access to animal feed,  diminished capacity of processing companies due to logistical constraints, labour shortages, closure of markets and diminishing demand due to reduced disposable income are the main problems faced by the sector so far.\n",
    "\n",
    "As per the President of All Island Poultry Association in Sri Lanka, around 5,000 broiler farmers and 3,000 layer farmers in the country have been significantly affected by the pandemic. At the outset, 12,000 MT of poultry meat was stuck in cold storages while another 8,000 MT were remaining to be harvested. The price of chicken eggs fell drastically just before the lockdown, causing heavy losses for layer farmers.\n"
   ]
  },
  {
   "cell_type": "markdown",
   "metadata": {},
   "source": [
    "---\n",
    "## Referances\n",
    "\n",
    "\n",
    "[1] https://www.netherlandsandyou.nl/latest-news/news/2020/06/02/impact-of-covid19-on-food-supply-chains-in-sri-lanka"
   ]
  },
  {
   "cell_type": "code",
   "execution_count": null,
   "metadata": {},
   "outputs": [],
   "source": []
  }
 ],
 "metadata": {
  "kernelspec": {
   "display_name": "Python 3",
   "language": "python",
   "name": "python3"
  },
  "language_info": {
   "codemirror_mode": {
    "name": "ipython",
    "version": 3
   },
   "file_extension": ".py",
   "mimetype": "text/x-python",
   "name": "python",
   "nbconvert_exporter": "python",
   "pygments_lexer": "ipython3",
   "version": "3.8.3"
  }
 },
 "nbformat": 4,
 "nbformat_minor": 4
}
