{
 "cells": [
  {
   "cell_type": "markdown",
   "metadata": {},
   "source": [
    "# \"Welcome\"\n",
    "> \"Agri supply chain analysis\"\n",
    "\n",
    "- toc: false\n",
    "- comments: false\n",
    "- author: Tharindu Peiris"
   ]
  },
  {
   "cell_type": "markdown",
   "metadata": {},
   "source": [
    "Sri Lankan Agri supply chain one of the key area that can make higher internal impact to the sustainable development of the country. In that sense, our goal to come up with data driven apporach to uplift this market into next level by introducing digitalization with supporting ***Open***, ***Decentralized*** and ***Connected*** market nature.  "
   ]
  },
  {
   "cell_type": "code",
   "execution_count": null,
   "metadata": {},
   "outputs": [],
   "source": []
  }
 ],
 "metadata": {
  "kernelspec": {
   "display_name": "Python 3",
   "language": "python",
   "name": "python3"
  },
  "language_info": {
   "codemirror_mode": {
    "name": "ipython",
    "version": 3
   },
   "file_extension": ".py",
   "mimetype": "text/x-python",
   "name": "python",
   "nbconvert_exporter": "python",
   "pygments_lexer": "ipython3",
   "version": "3.8.3"
  }
 },
 "nbformat": 4,
 "nbformat_minor": 4
}
